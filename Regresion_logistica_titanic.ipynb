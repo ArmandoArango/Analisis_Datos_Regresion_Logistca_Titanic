{
 "cells": [
  {
   "cell_type": "code",
   "execution_count": 94,
   "id": "d0651528-d3a8-443a-b9b7-78a6364cb309",
   "metadata": {},
   "outputs": [
    {
     "data": {
      "text/html": [
       "<div>\n",
       "<style scoped>\n",
       "    .dataframe tbody tr th:only-of-type {\n",
       "        vertical-align: middle;\n",
       "    }\n",
       "\n",
       "    .dataframe tbody tr th {\n",
       "        vertical-align: top;\n",
       "    }\n",
       "\n",
       "    .dataframe thead th {\n",
       "        text-align: right;\n",
       "    }\n",
       "</style>\n",
       "<table border=\"1\" class=\"dataframe\">\n",
       "  <thead>\n",
       "    <tr style=\"text-align: right;\">\n",
       "      <th></th>\n",
       "      <th>PassengerId</th>\n",
       "      <th>Survived</th>\n",
       "      <th>Pclass</th>\n",
       "      <th>Age</th>\n",
       "      <th>SibSp</th>\n",
       "      <th>Parch</th>\n",
       "      <th>Fare</th>\n",
       "    </tr>\n",
       "  </thead>\n",
       "  <tbody>\n",
       "    <tr>\n",
       "      <th>count</th>\n",
       "      <td>891.000000</td>\n",
       "      <td>891.000000</td>\n",
       "      <td>891.000000</td>\n",
       "      <td>714.000000</td>\n",
       "      <td>891.000000</td>\n",
       "      <td>891.000000</td>\n",
       "      <td>891.000000</td>\n",
       "    </tr>\n",
       "    <tr>\n",
       "      <th>mean</th>\n",
       "      <td>446.000000</td>\n",
       "      <td>0.383838</td>\n",
       "      <td>2.308642</td>\n",
       "      <td>29.699118</td>\n",
       "      <td>0.523008</td>\n",
       "      <td>0.381594</td>\n",
       "      <td>32.204208</td>\n",
       "    </tr>\n",
       "    <tr>\n",
       "      <th>std</th>\n",
       "      <td>257.353842</td>\n",
       "      <td>0.486592</td>\n",
       "      <td>0.836071</td>\n",
       "      <td>14.526497</td>\n",
       "      <td>1.102743</td>\n",
       "      <td>0.806057</td>\n",
       "      <td>49.693429</td>\n",
       "    </tr>\n",
       "    <tr>\n",
       "      <th>min</th>\n",
       "      <td>1.000000</td>\n",
       "      <td>0.000000</td>\n",
       "      <td>1.000000</td>\n",
       "      <td>0.420000</td>\n",
       "      <td>0.000000</td>\n",
       "      <td>0.000000</td>\n",
       "      <td>0.000000</td>\n",
       "    </tr>\n",
       "    <tr>\n",
       "      <th>25%</th>\n",
       "      <td>223.500000</td>\n",
       "      <td>0.000000</td>\n",
       "      <td>2.000000</td>\n",
       "      <td>20.125000</td>\n",
       "      <td>0.000000</td>\n",
       "      <td>0.000000</td>\n",
       "      <td>7.910400</td>\n",
       "    </tr>\n",
       "    <tr>\n",
       "      <th>50%</th>\n",
       "      <td>446.000000</td>\n",
       "      <td>0.000000</td>\n",
       "      <td>3.000000</td>\n",
       "      <td>28.000000</td>\n",
       "      <td>0.000000</td>\n",
       "      <td>0.000000</td>\n",
       "      <td>14.454200</td>\n",
       "    </tr>\n",
       "    <tr>\n",
       "      <th>75%</th>\n",
       "      <td>668.500000</td>\n",
       "      <td>1.000000</td>\n",
       "      <td>3.000000</td>\n",
       "      <td>38.000000</td>\n",
       "      <td>1.000000</td>\n",
       "      <td>0.000000</td>\n",
       "      <td>31.000000</td>\n",
       "    </tr>\n",
       "    <tr>\n",
       "      <th>max</th>\n",
       "      <td>891.000000</td>\n",
       "      <td>1.000000</td>\n",
       "      <td>3.000000</td>\n",
       "      <td>80.000000</td>\n",
       "      <td>8.000000</td>\n",
       "      <td>6.000000</td>\n",
       "      <td>512.329200</td>\n",
       "    </tr>\n",
       "  </tbody>\n",
       "</table>\n",
       "</div>"
      ],
      "text/plain": [
       "       PassengerId    Survived      Pclass         Age       SibSp  \\\n",
       "count   891.000000  891.000000  891.000000  714.000000  891.000000   \n",
       "mean    446.000000    0.383838    2.308642   29.699118    0.523008   \n",
       "std     257.353842    0.486592    0.836071   14.526497    1.102743   \n",
       "min       1.000000    0.000000    1.000000    0.420000    0.000000   \n",
       "25%     223.500000    0.000000    2.000000   20.125000    0.000000   \n",
       "50%     446.000000    0.000000    3.000000   28.000000    0.000000   \n",
       "75%     668.500000    1.000000    3.000000   38.000000    1.000000   \n",
       "max     891.000000    1.000000    3.000000   80.000000    8.000000   \n",
       "\n",
       "            Parch        Fare  \n",
       "count  891.000000  891.000000  \n",
       "mean     0.381594   32.204208  \n",
       "std      0.806057   49.693429  \n",
       "min      0.000000    0.000000  \n",
       "25%      0.000000    7.910400  \n",
       "50%      0.000000   14.454200  \n",
       "75%      0.000000   31.000000  \n",
       "max      6.000000  512.329200  "
      ]
     },
     "execution_count": 94,
     "metadata": {},
     "output_type": "execute_result"
    }
   ],
   "source": [
    "\"\"\"1. Realizar un análisis exploratorio de los datos para identificar relaciones entre variables, valores atípicos, tendencias, etc. \"\"\"\n",
    "\n",
    "#importamos libreriras\n",
    "\n",
    "import pandas as pd # manejo de analisis estrucuras de datos\n",
    "import numpy as np # calculos numericos y analisis de datos\n",
    "import seaborn as sns # crea graficas estadisticas\n",
    "import matplotlib.pyplot as plt #crea graficas en dos dimensiones\n",
    "\n",
    "# Librerías de para implementar modelos de ciencia de datos\n",
    "from sklearn import metrics\n",
    "from sklearn.model_selection import train_test_split\n",
    "from sklearn.linear_model import LogisticRegression\n",
    "from sklearn.metrics import classification_report, confusion_matrix\n",
    "\n",
    "#leemos el dataset\n",
    "Dataset = pd.read_csv(\"./Titanic-Dataset.csv\")\n",
    "Dataset.describe()\n"
   ]
  },
  {
   "cell_type": "code",
   "execution_count": 95,
   "id": "496db9df-aed7-40b9-ae5b-cb6ff50922b6",
   "metadata": {},
   "outputs": [
    {
     "name": "stdout",
     "output_type": "stream",
     "text": [
      "Cantidad de Registros con cero en Edad:  0\n",
      "Cantidad de Registros con cero en Pclass:  0\n",
      "Cantidad de Registros con cero en Fare:  15\n"
     ]
    }
   ],
   "source": [
    "\"\"\"2. Preprocesar los datos limpiándolos, tratando valores faltantes y transformándolos según sea necesario. \"\"\"\n",
    "#datos en 0\n",
    "print(\"Cantidad de Registros con cero en Edad: \",Dataset['Age'].isin([0]).sum())\n",
    "print(\"Cantidad de Registros con cero en Pclass: \",Dataset['Pclass'].isin([0]).sum())\n",
    "print(\"Cantidad de Registros con cero en Fare: \",Dataset['Fare'].isin([0]).sum())\n",
    "#print(Dataset.isnull().any())\n",
    "#print((Dataset == '').any())\n",
    "#eliminamos_datos_vacios = Dataset[(Dataset != '').all(axis=1)]"
   ]
  },
  {
   "cell_type": "code",
   "execution_count": 96,
   "id": "22220fcd-292a-4b0d-abff-c3d72cde2c2e",
   "metadata": {},
   "outputs": [
    {
     "data": {
      "text/plain": [
       "Text(0.5, 1.0, 'Pclass')"
      ]
     },
     "execution_count": 96,
     "metadata": {},
     "output_type": "execute_result"
    },
    {
     "data": {
      "image/png": "[encoded data removed]",
      "text/plain": [
       "<Figure size 600x300 with 1 Axes>"
      ]
     },
     "metadata": {},
     "output_type": "display_data"
    },
    {
     "data": {
      "image/png": "[encoded data removed]",
      "text/plain": [
       "<Figure size 600x300 with 1 Axes>"
      ]
     },
     "metadata": {},
     "output_type": "display_data"
    }
   ],
   "source": [
    "#revisar datos atipicos\n",
    "plt.figure(figsize=(6, 3))\n",
    "sns.boxplot(x=Dataset['Age'])\n",
    "plt.title('Edad', fontsize=10)\n",
    "\n",
    "plt.figure(figsize=(6, 3))\n",
    "sns.boxplot(x=Dataset['Pclass'])\n",
    "plt.title('Pclass', fontsize=10)\n"
   ]
  },
  {
   "cell_type": "code",
   "execution_count": 97,
   "id": "ddb7cbfd-ad98-41a9-a78c-33f8feb593d1",
   "metadata": {},
   "outputs": [
    {
     "name": "stdout",
     "output_type": "stream",
     "text": [
      "El total de datos atipicos de Edad 7\n",
      "El total de datos atipicos de Pclass 0\n"
     ]
    }
   ],
   "source": [
    "nivel_minimo=1\n",
    "nivel_maximo=80\n",
    "Total_Atipicos=((Dataset['Age']<nivel_minimo) | (Dataset['Age']>nivel_maximo)).sum()\n",
    "print(\"El total de datos atipicos de Edad {}\".format(Total_Atipicos))\n",
    "\n",
    "nivel_minimo=1\n",
    "nivel_maximo=400\n",
    "Total_Atipicos=((Dataset['Pclass']<nivel_minimo) | (Dataset['Pclass']>nivel_maximo)).sum()\n",
    "print(\"El total de datos atipicos de Pclass {}\".format(Total_Atipicos))"
   ]
  },
  {
   "cell_type": "code",
   "execution_count": 100,
   "id": "26c2d109-e5fb-48a0-8aa2-aedb8dadb2d5",
   "metadata": {},
   "outputs": [],
   "source": [
    "#filtramos datos atipicos par cambiarlos.\n",
    "nivel_minimo=1\n",
    "nivel_maximo=80\n",
    "Dataset=Dataset[(Dataset['Age']<nivel_maximo)&(Dataset['Age']>nivel_minimo)]"
   ]
  },
  {
   "cell_type": "code",
   "execution_count": 101,
   "id": "9679647e-852f-4f40-bd7a-a69518d400f3",
   "metadata": {},
   "outputs": [
    {
     "name": "stdout",
     "output_type": "stream",
     "text": [
      "El total de datos atipicos de Edad 0\n"
     ]
    }
   ],
   "source": [
    "#verificamos los datos atipicos\n",
    "nivel_minimo=1\n",
    "nivel_maximo=80\n",
    "Total_Atipicos=((Dataset['Age']<nivel_minimo) | (Dataset['Age']>nivel_maximo)).sum()\n",
    "print(\"El total de datos atipicos de Edad {}\".format(Total_Atipicos))\n"
   ]
  },
  {
   "cell_type": "code",
   "execution_count": 103,
   "id": "d75118f8-8dd9-49f3-b428-f633c4e217c1",
   "metadata": {},
   "outputs": [
    {
     "data": {
      "text/plain": [
       "Survived\n",
       "0    422\n",
       "1    277\n",
       "Name: count, dtype: int64"
      ]
     },
     "execution_count": 103,
     "metadata": {},
     "output_type": "execute_result"
    }
   ],
   "source": [
    "\"\"\"\n",
    "3. Seleccionar las características más relevantes para entrenar el modelo utilizando selección de características.\n",
    "\"\"\"\n",
    "#total de sobrevivientes\n",
    "Dataset[\"Survived\"].value_counts()"
   ]
  },
  {
   "cell_type": "code",
   "execution_count": 104,
   "id": "22eb99bf-a614-49e2-9f55-fc417d03aedc",
   "metadata": {},
   "outputs": [],
   "source": [
    "\"\"\"4. Dividir el dataset en Train y Test para evaluar correctamente el modelo. \"\"\"\n",
    "\n",
    "#porcetaje de train 75%, porcentaje test 25%\n",
    "X = Dataset.drop(\"Survived\",axis=1) # Se cargan Los datos de train sin los datos de la columna de sobrevivientes\n",
    "Y = Dataset[\"Survived\"] # Se cargan los datos de train con Los datos de La columna de sobrevivientes\n",
    "\n",
    "#La función train_test_split crea una división de un conjunto de datos en dos bloques uno de entrenamiento y otro de prueba (train and test)\n",
    "X_train, X_test, Y_train, Y_test = train_test_split(X, Y, test_size=0.25, stratify=Y, random_state= 0)"
   ]
  },
  {
   "cell_type": "code",
   "execution_count": 105,
   "id": "6993f6dd-94b3-4215-8cc8-67e1a24c21bd",
   "metadata": {},
   "outputs": [
    {
     "name": "stdout",
     "output_type": "stream",
     "text": [
      "     PassengerId  Pclass                           Name     Sex   Age  SibSp  \\\n",
      "491          492       3            Windelov, Mr. Einar    male  21.0      0   \n",
      "823          824       3             Moor, Mrs. (Beila)  female  27.0      0   \n",
      "881          882       3             Markun, Mr. Johann    male  33.0      0   \n",
      "213          214       2    Givard, Mr. Hans Kristensen    male  30.0      0   \n",
      "641          642       1           Sagesser, Mlle. Emma  female  24.0      0   \n",
      "..           ...     ...                            ...     ...   ...    ...   \n",
      "725          726       3            Oreskovic, Mr. Luka    male  20.0      0   \n",
      "62            63       1    Harris, Mr. Henry Birkhardt    male  45.0      1   \n",
      "777          778       3  Emanuel, Miss. Virginia Ethel  female   5.0      0   \n",
      "721          722       3      Jensen, Mr. Svend Lauritz    male  17.0      1   \n",
      "265          266       2              Reeves, Mr. David    male  36.0      0   \n",
      "\n",
      "     Parch            Ticket     Fare Cabin Embarked  \n",
      "491      0  SOTON/OQ 3101317   7.2500   NaN        S  \n",
      "823      1            392096  12.4750  E121        S  \n",
      "881      0            349257   7.8958   NaN        S  \n",
      "213      0            250646  13.0000   NaN        S  \n",
      "641      0          PC 17477  69.3000   B35        C  \n",
      "..     ...               ...      ...   ...      ...  \n",
      "725      0            315094   8.6625   NaN        S  \n",
      "62       0             36973  83.4750   C83        S  \n",
      "777      0            364516  12.4750   NaN        S  \n",
      "721      0            350048   7.0542   NaN        S  \n",
      "265      0        C.A. 17248  10.5000   NaN        S  \n",
      "\n",
      "[524 rows x 11 columns]\n"
     ]
    }
   ],
   "source": [
    "print(X_train)"
   ]
  },
  {
   "cell_type": "code",
   "execution_count": 106,
   "id": "ef0bfddb-5f67-4f0e-b40b-6f0a07250e39",
   "metadata": {},
   "outputs": [
    {
     "name": "stdout",
     "output_type": "stream",
     "text": [
      "<class 'pandas.core.frame.DataFrame'>\n",
      "Index: 699 entries, 0 to 890\n",
      "Data columns (total 12 columns):\n",
      " #   Column       Non-Null Count  Dtype  \n",
      "---  ------       --------------  -----  \n",
      " 0   PassengerId  699 non-null    int64  \n",
      " 1   Survived     699 non-null    int64  \n",
      " 2   Pclass       699 non-null    int64  \n",
      " 3   Name         699 non-null    object \n",
      " 4   Sex          699 non-null    object \n",
      " 5   Age          699 non-null    float64\n",
      " 6   SibSp        699 non-null    int64  \n",
      " 7   Parch        699 non-null    int64  \n",
      " 8   Ticket       699 non-null    object \n",
      " 9   Fare         699 non-null    float64\n",
      " 10  Cabin        182 non-null    object \n",
      " 11  Embarked     697 non-null    object \n",
      "dtypes: float64(2), int64(5), object(5)\n",
      "memory usage: 71.0+ KB\n"
     ]
    }
   ],
   "source": [
    "Dataset.info()"
   ]
  },
  {
   "cell_type": "code",
   "execution_count": 114,
   "id": "e04ba633-2eae-418b-abbc-4220f7582dd0",
   "metadata": {},
   "outputs": [],
   "source": [
    "Dataset = pd.DataFrame(Dataset)\n",
    "Dataset = Dataset.drop(['Name', 'Sex', 'Ticket','Cabin','Embarked'], axis=1)"
   ]
  },
  {
   "cell_type": "code",
   "execution_count": 116,
   "id": "c12f65f3-95b7-4282-b192-da00faf5e35d",
   "metadata": {},
   "outputs": [
    {
     "name": "stdout",
     "output_type": "stream",
     "text": [
      "<class 'pandas.core.frame.DataFrame'>\n",
      "Index: 699 entries, 0 to 890\n",
      "Data columns (total 7 columns):\n",
      " #   Column       Non-Null Count  Dtype  \n",
      "---  ------       --------------  -----  \n",
      " 0   PassengerId  699 non-null    int64  \n",
      " 1   Survived     699 non-null    int64  \n",
      " 2   Pclass       699 non-null    int64  \n",
      " 3   Age          699 non-null    float64\n",
      " 4   SibSp        699 non-null    int64  \n",
      " 5   Parch        699 non-null    int64  \n",
      " 6   Fare         699 non-null    float64\n",
      "dtypes: float64(2), int64(5)\n",
      "memory usage: 43.7 KB\n"
     ]
    }
   ],
   "source": [
    "Dataset.info()"
   ]
  },
  {
   "cell_type": "code",
   "execution_count": 117,
   "id": "79c9ee49-639d-4b73-b83a-4f7e061a4d0a",
   "metadata": {},
   "outputs": [
    {
     "data": {
      "text/plain": [
       "Survived\n",
       "0    422\n",
       "1    277\n",
       "Name: count, dtype: int64"
      ]
     },
     "execution_count": 117,
     "metadata": {},
     "output_type": "execute_result"
    }
   ],
   "source": [
    "\"\"\"\n",
    "3. Seleccionar las características más relevantes para entrenar el modelo utilizando selección de características.\n",
    "\"\"\"\n",
    "#total de personas con problemas cardiacos\n",
    "Dataset[\"Survived\"].value_counts()"
   ]
  },
  {
   "cell_type": "code",
   "execution_count": 118,
   "id": "6a6af478-e236-436e-b959-cd0dde1a2c19",
   "metadata": {},
   "outputs": [],
   "source": [
    "\"\"\"\n",
    "4. Dividir el dataset en Train y Test para evaluar correctamente el\n",
    "modelo.\n",
    "\"\"\"\n",
    "#porcetaje de train 75%, porcentaje test 25%\n",
    "X = Dataset.drop(\"Survived\",axis=1) # Se cargan Los datos de train sin los datos de la columna Survived\n",
    "Y = Dataset[\"Survived\"] # Se cargan los datos de train con Los datos de La columna Survived\n",
    "\n",
    "#La función train_test_split crea una división de un conjunto de datos en dos bloques uno de entrenamiento y otro de prueba (train and test)\n",
    "X_train, X_test, Y_train, Y_test = train_test_split(X, Y, test_size=0.25, stratify=Y, random_state= 0)"
   ]
  },
  {
   "cell_type": "code",
   "execution_count": 119,
   "id": "9f3f65cc-3c80-4f89-9403-9d1ac8f8bd5a",
   "metadata": {},
   "outputs": [
    {
     "name": "stdout",
     "output_type": "stream",
     "text": [
      "     PassengerId  Pclass   Age  SibSp  Parch     Fare\n",
      "491          492       3  21.0      0      0   7.2500\n",
      "823          824       3  27.0      0      1  12.4750\n",
      "881          882       3  33.0      0      0   7.8958\n",
      "213          214       2  30.0      0      0  13.0000\n",
      "641          642       1  24.0      0      0  69.3000\n",
      "..           ...     ...   ...    ...    ...      ...\n",
      "725          726       3  20.0      0      0   8.6625\n",
      "62            63       1  45.0      1      0  83.4750\n",
      "777          778       3   5.0      0      0  12.4750\n",
      "721          722       3  17.0      1      0   7.0542\n",
      "265          266       2  36.0      0      0  10.5000\n",
      "\n",
      "[524 rows x 6 columns]\n"
     ]
    }
   ],
   "source": [
    "print(X_train)"
   ]
  },
  {
   "cell_type": "code",
   "execution_count": 120,
   "id": "0acd733c-3326-49a2-aa77-d17be3306579",
   "metadata": {},
   "outputs": [
    {
     "name": "stdout",
     "output_type": "stream",
     "text": [
      "491    0\n",
      "823    1\n",
      "881    0\n",
      "213    0\n",
      "641    1\n",
      "      ..\n",
      "725    0\n",
      "62     0\n",
      "777    1\n",
      "721    0\n",
      "265    0\n",
      "Name: Survived, Length: 524, dtype: int64\n"
     ]
    }
   ],
   "source": [
    "print(Y_train)"
   ]
  },
  {
   "cell_type": "code",
   "execution_count": 121,
   "id": "db935d36-021f-412d-a183-0d184875f432",
   "metadata": {},
   "outputs": [],
   "source": [
    "\"\"\"\n",
    "5. Entrenar el modelo configurando los diferentes hiperparámetros\n",
    "\"\"\"\n",
    "\n",
    "modelo_regresion = LogisticRegression(solver = \"liblinear\") # Liblinear es una libreria para resolver problemas lineales de clasificacion y regresion\n",
    "modelo_regresion.fit (X_train , Y_train)\n",
    "\n",
    "# Crea el modelo de prediccion\n",
    "Prediccion = modelo_regresion.predict(X_test) # La funcion predict predice los valores a partir del conjunto de datos de validación"
   ]
  },
  {
   "cell_type": "code",
   "execution_count": 122,
   "id": "817a4687-258e-4f61-8880-7ae3c836c6b9",
   "metadata": {},
   "outputs": [
    {
     "name": "stdout",
     "output_type": "stream",
     "text": [
      "491    0\n",
      "823    1\n",
      "881    0\n",
      "213    0\n",
      "641    1\n",
      "      ..\n",
      "725    0\n",
      "62     0\n",
      "777    1\n",
      "721    0\n",
      "265    0\n",
      "Name: Survived, Length: 524, dtype: int64\n"
     ]
    }
   ],
   "source": [
    "print(Y_train)"
   ]
  },
  {
   "cell_type": "code",
   "execution_count": 123,
   "id": "ff922f6a-dc7f-421d-8415-8d0a0d8285de",
   "metadata": {},
   "outputs": [
    {
     "name": "stdout",
     "output_type": "stream",
     "text": [
      "[1 0 0 1 1 0 0 0 0 0 0 0 0 0 1 1 1 0 0 1 0 0 0 0 0 1 0 0 0 1 1 1 0 0 1 0 1\n",
      " 0 0 1 0 1 0 1 1 0 1 0 0 0 1 0 1 0 1 0 0 0 0 0 0 1 0 0 1 1 0 0 0 0 0 1 0 1\n",
      " 1 0 0 1 1 0 1 1 0 0 0 0 0 0 1 0 0 0 0 0 0 0 1 1 0 0 0 0 1 0 0 1 0 0 0 1 1\n",
      " 0 1 0 0 0 0 1 1 0 0 1 0 0 1 0 0 1 0 0 1 1 0 0 0 0 0 0 0 0 1 0 1 1 0 1 0 0\n",
      " 0 1 0 0 1 0 0 1 0 1 0 0 1 0 1 0 0 0 0 0 0 0 0 1 1 0 0]\n"
     ]
    }
   ],
   "source": [
    "print(Prediccion)"
   ]
  },
  {
   "cell_type": "code",
   "execution_count": 124,
   "id": "3ad62f5b-3864-4e9a-b0ea-62ba36de01f6",
   "metadata": {},
   "outputs": [
    {
     "name": "stdout",
     "output_type": "stream",
     "text": [
      "              precision    recall  f1-score   support\n",
      "\n",
      "           0       0.74      0.82      0.78       106\n",
      "           1       0.67      0.57      0.61        69\n",
      "\n",
      "    accuracy                           0.72       175\n",
      "   macro avg       0.71      0.69      0.70       175\n",
      "weighted avg       0.72      0.72      0.71       175\n",
      "\n"
     ]
    }
   ],
   "source": [
    "\"\"\"\n",
    "6. Evaluar el desempeño del modelo en el conjunto de Test con métricas como precisión, recall, F1-score, etc.\n",
    "\"\"\"\n",
    "print(classification_report(Y_test, Prediccion))"
   ]
  },
  {
   "cell_type": "code",
   "execution_count": 125,
   "id": "4b7a5a53-640b-4b8f-8056-f26dbd62a7a7",
   "metadata": {},
   "outputs": [
    {
     "data": {
      "text/plain": [
       "<sklearn.metrics._plot.confusion_matrix.ConfusionMatrixDisplay at 0x28c8f832210>"
      ]
     },
     "execution_count": 125,
     "metadata": {},
     "output_type": "execute_result"
    },
    {
     "data": {
      "image/png": "[encoded data removed]",
      "text/plain": [
       "<Figure size 640x480 with 2 Axes>"
      ]
     },
     "metadata": {},
     "output_type": "display_data"
    }
   ],
   "source": [
    "\"\"\"\n",
    "7. Realizar las diferentes gráficas que permitan visualizar los resultados del modelo.\n",
    "\"\"\"\n",
    "#matrix de confusion\n",
    "cm=confusion_matrix(Y_test, Prediccion)\n",
    "disp=metrics.ConfusionMatrixDisplay(confusion_matrix=cm)\n",
    "disp.plot()"
   ]
  },
  {
   "cell_type": "code",
   "execution_count": 126,
   "id": "9ef92fb6-8062-43d7-8c22-73d063fae791",
   "metadata": {
    "scrolled": true
   },
   "outputs": [
    {
     "data": {
      "image/png": "[encoded data removed]",
      "text/plain": [
       "<Figure size 640x480 with 1 Axes>"
      ]
     },
     "metadata": {},
     "output_type": "display_data"
    }
   ],
   "source": [
    "#curva de presicion\n",
    "from sklearn.metrics import RocCurveDisplay\n",
    "RocCurveDisplay.from_predictions(Y_test, Prediccion)\n",
    "plt.show()"
   ]
  },
  {
   "cell_type": "code",
   "execution_count": null,
   "id": "090ccdf3-2242-46ea-b780-581597b60415",
   "metadata": {},
   "outputs": [],
   "source": []
  }
 ],
 "metadata": {
  "kernelspec": {
   "display_name": "Python 3 (ipykernel)",
   "language": "python",
   "name": "python3"
  },
  "language_info": {
   "codemirror_mode": {
    "name": "ipython",
    "version": 3
   },
   "file_extension": ".py",
   "mimetype": "text/x-python",
   "name": "python",
   "nbconvert_exporter": "python",
   "pygments_lexer": "ipython3",
   "version": "3.11.7"
  }
 },
 "nbformat": 4,
 "nbformat_minor": 5
}
